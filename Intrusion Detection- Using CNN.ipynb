{
 "cells": [
  {
   "cell_type": "code",
   "execution_count": 90,
   "metadata": {},
   "outputs": [],
   "source": [
    "import numpy as np\n",
    "import matplotlib.pyplot as plt\n",
    "%matplotlib inline\n",
    "import tensorflow as tf\n",
    "import pandas as pd\n",
    "from sklearn import preprocessing\n",
    "from sklearn.preprocessing import StandardScaler\n",
    "from sklearn.linear_model import LogisticRegression\n",
    "from sklearn.decomposition import PCA\n",
    "import tensorflow as tf\n",
    "from tensorflow.keras.models import Model, Sequential\n",
    "from tensorflow.keras.layers import Input, Conv1D, Activation, MaxPooling1D, Dense, Dropout, Flatten\n",
    "import tensorflow.keras.backend as K\n",
    "from tensorflow.keras import optimizers"
   ]
  },
  {
   "cell_type": "code",
   "execution_count": 91,
   "metadata": {},
   "outputs": [],
   "source": [
    "#Ignore Warnings\n",
    "import warnings\n",
    "warnings.filterwarnings(\"ignore\")"
   ]
  },
  {
   "cell_type": "code",
   "execution_count": 92,
   "metadata": {},
   "outputs": [
    {
     "data": {
      "text/plain": [
       "array([[1, 0, 0, 0, 0],\n",
       "       [0, 1, 0, 0, 0],\n",
       "       [0, 1, 0, 0, 0],\n",
       "       ...,\n",
       "       [0, 1, 0, 0, 0],\n",
       "       [0, 1, 0, 0, 0],\n",
       "       [0, 0, 0, 1, 0]])"
      ]
     },
     "execution_count": 92,
     "metadata": {},
     "output_type": "execute_result"
    }
   ],
   "source": [
    "#Extract Train and Test Data.\n",
    "df_tr = pd.read_csv('Data\\Intrusion-Detection\\Train_data.csv',na_values='?',header=0)\n",
    "df_ts = pd.read_csv('Data\\Intrusion-Detection\\Test_data.csv',na_values='?',header=0)\n",
    "\n",
    "#Drop Duplicates\n",
    "df_tr.drop_duplicates(keep='first')\n",
    "df_ts.drop_duplicates(keep='first')\n",
    "\n",
    "#Drop NA\n",
    "df_tr.dropna()\n",
    "df_ts.dropna()\n",
    "\n",
    "#Drop ClassLabel column from input array X and Create output array y of Classlabel.\n",
    "Xtr = np.array(df_tr.drop('xAttack',axis=1))\n",
    "ytr = np.array(df_tr['xAttack'])\n",
    "Xts = np.array(df_ts.drop('xAttack',axis=1))\n",
    "yts = np.array(df_ts['xAttack'])\n",
    "\n",
    "#Encode\n",
    "le = preprocessing.LabelEncoder()\n",
    "lb = preprocessing.LabelBinarizer()\n",
    "\n",
    "Xtr[:,1] = le.fit_transform(Xtr[:,1])\n",
    "Xts[:,2] = le.fit_transform(Xts[:,2])\n",
    "Xts = np.delete(Xts,0,axis=1)\n",
    "\n",
    "ytr = le.fit_transform(ytr)\n",
    "lb.fit_transform(ytr)\n",
    "\n",
    "yts = le.fit_transform(yts)\n",
    "lb.fit_transform(yts)"
   ]
  },
  {
   "cell_type": "code",
   "execution_count": 93,
   "metadata": {},
   "outputs": [
    {
     "name": "stdout",
     "output_type": "stream",
     "text": [
      "(125973, 41)\n",
      "(125973,)\n",
      "(10000, 41)\n",
      "(10000,)\n"
     ]
    }
   ],
   "source": [
    "print(Xtr.shape)\n",
    "print(ytr.shape)\n",
    "\n",
    "print(Xts.shape)\n",
    "print(yts.shape)"
   ]
  },
  {
   "cell_type": "code",
   "execution_count": 97,
   "metadata": {},
   "outputs": [],
   "source": [
    "#Nomralize the data\n",
    "Xtr_n = preprocessing.normalize(Xtr)\n",
    "Xts_n = preprocessing.normalize(Xts)"
   ]
  },
  {
   "cell_type": "code",
   "execution_count": 117,
   "metadata": {},
   "outputs": [],
   "source": [
    "ncomp =20\n",
    "# Construct the PCA object\n",
    "pca = PCA(n_components=ncomp, \n",
    "          svd_solver='randomized', whiten=True)\n",
    "\n",
    "# Fit the PCA components on the entire dataset\n",
    "pca.fit(Xtr_n)\n",
    "Ztr = pca.transform(Xtr_n)\n",
    "Zts = pca.transform(Xts_n)"
   ]
  },
  {
   "cell_type": "code",
   "execution_count": 118,
   "metadata": {},
   "outputs": [],
   "source": [
    "K.clear_session()"
   ]
  },
  {
   "cell_type": "code",
   "execution_count": null,
   "metadata": {},
   "outputs": [
    {
     "name": "stdout",
     "output_type": "stream",
     "text": [
      "Train on 125973 samples, validate on 10000 samples\n",
      "Epoch 1/5\n",
      "125973/125973 [==============================] - 4s 33us/step - loss: 0.1141 - acc: 0.9696 - val_loss: 1.4818 - val_acc: 0.7733\n",
      "Epoch 2/5\n",
      "125973/125973 [==============================] - 4s 30us/step - loss: 0.0409 - acc: 0.9897 - val_loss: 1.3622 - val_acc: 0.7746\n",
      "Epoch 3/5\n",
      " 43000/125973 [=========>....................] - ETA: 2s - loss: 0.0332 - acc: 0.9913"
     ]
    }
   ],
   "source": [
    "nout = int(np.max(ytr)+1) \n",
    "nin = Ztr.shape[1]\n",
    "\n",
    "Ztr_new = Ztr.reshape((Ztr.shape[0], Ztr.shape[1], 1))\n",
    "Zts_new = Zts.reshape((Zts.shape[0], Zts.shape[1], 1))\n",
    "\n",
    "model = Sequential()\n",
    "model.add(Conv1D(kernel_size=5, filters=64, input_shape=(Ztr.shape[1],1)))\n",
    "model.add(Activation('relu'))\n",
    "model.add(MaxPooling1D(pool_size=2))\n",
    "model.add(Flatten())\n",
    "model.add(Dense(units=100, activation='relu'))\n",
    "model.add(Dense(units=nout, activation='softmax', name='output'))\n",
    "\n",
    "opt = optimizers.Adam(lr=0.001)\n",
    "model.compile(loss='sparse_categorical_crossentropy',\n",
    "             optimizer='adam',\n",
    "             metrics=['accuracy'])\n",
    "\n",
    "hist = model.fit(Ztr_new, ytr, batch_size=100, epochs=5,validation_data=(Zts_new,yts))"
   ]
  },
  {
   "cell_type": "code",
   "execution_count": 111,
   "metadata": {},
   "outputs": [
    {
     "name": "stdout",
     "output_type": "stream",
     "text": [
      "0.7535999971628189\n"
     ]
    }
   ],
   "source": [
    "score, accuracy = model.evaluate(Zts_new, yts, batch_size=100,verbose=0)\n",
    "print(accuracy)"
   ]
  },
  {
   "cell_type": "code",
   "execution_count": 112,
   "metadata": {},
   "outputs": [
    {
     "data": {
      "text/plain": [
       "<matplotlib.legend.Legend at 0x1e203877ef0>"
      ]
     },
     "execution_count": 112,
     "metadata": {},
     "output_type": "execute_result"
    },
    {
     "data": {
      "image/png": "[encoded data removed]",
      "text/plain": [
       "<Figure size 432x288 with 1 Axes>"
      ]
     },
     "metadata": {
      "needs_background": "light"
     },
     "output_type": "display_data"
    }
   ],
   "source": [
    "tr_accuracy = hist.history['acc']\n",
    "val_accuracy = hist.history['val_acc']\n",
    "\n",
    "plt.plot(tr_accuracy)\n",
    "plt.plot(val_accuracy)\n",
    "plt.grid()\n",
    "plt.xlabel('epochs')\n",
    "plt.ylabel('accuarcy')\n",
    "plt.legend(['training accuracy', 'validation accuracy'])"
   ]
  },
  {
   "cell_type": "code",
   "execution_count": 114,
   "metadata": {},
   "outputs": [
    {
     "name": "stdout",
     "output_type": "stream",
     "text": [
      "Max Training Accuracy obtained: 0.9907837472038967\n",
      "Max Test Accuracy obtained: 0.7570000010728836\n"
     ]
    }
   ],
   "source": [
    "maxTr = np.argmax(tr_accuracy)\n",
    "maxTs = np.argmax(val_accuracy)\n",
    "print('Max Training Accuracy obtained:',tr_accuracy[maxTr])\n",
    "print('Max Test Accuracy obtained:',val_accuracy[maxTs])"
   ]
  },
  {
   "cell_type": "code",
   "execution_count": null,
   "metadata": {},
   "outputs": [],
   "source": []
  }
 ],
 "metadata": {
  "kernelspec": {
   "display_name": "Python 3",
   "language": "python",
   "name": "python3"
  },
  "language_info": {
   "codemirror_mode": {
    "name": "ipython",
    "version": 3
   },
   "file_extension": ".py",
   "mimetype": "text/x-python",
   "name": "python",
   "nbconvert_exporter": "python",
   "pygments_lexer": "ipython3",
   "version": "3.6.8"
  }
 },
 "nbformat": 4,
 "nbformat_minor": 2
}
